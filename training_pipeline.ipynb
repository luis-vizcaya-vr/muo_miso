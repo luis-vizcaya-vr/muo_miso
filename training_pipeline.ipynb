{
 "cells": [
  {
   "cell_type": "code",
   "execution_count": 4,
   "metadata": {},
   "outputs": [],
   "source": [
    "import sys\n",
    "sys.path.append('src')\n",
    "import pandas as pd\n",
    "import substation\n",
    "import simulator"
   ]
  },
  {
   "cell_type": "code",
   "execution_count": null,
   "metadata": {},
   "outputs": [],
   "source": [
    "#substations to test\n",
    "subs = ['LGEE']\n",
    "\n",
    "#create the simulator object\n",
    "miso_sim = simulator()\n",
    "\n",
    "#create subs objects into simulator\n",
    "miso_sim.create_subs(subs)\n",
    "\n",
    "#get historical actuals\n",
    "miso_sim.get_actuals()\n",
    "\n",
    "#update specific actuals in subs\n",
    "miso_sim.update_subs_actuals(subs)\n",
    "\n",
    "#get zonal demand\n",
    "miso_sim.get_zonal_demand_hist()\n",
    "\n",
    "#update zonal demand in subs\n",
    "miso_sim.update_zonal_demand_hist_subs()\n",
    "\n",
    "#get zonal historical lmps\n",
    "miso_sim.get_zonal_lmps_hist()\n",
    "\n",
    "#update zonal hitorical lmps in subs\n",
    "miso_sim.udpate_zonal_lmps_hist_subs(subs)\n",
    "        \n",
    "    "
   ]
  }
 ],
 "metadata": {
  "kernelspec": {
   "display_name": "muo2",
   "language": "python",
   "name": "python3"
  },
  "language_info": {
   "codemirror_mode": {
    "name": "ipython",
    "version": 3
   },
   "file_extension": ".py",
   "mimetype": "text/x-python",
   "name": "python",
   "nbconvert_exporter": "python",
   "pygments_lexer": "ipython3",
   "version": "3.9.13"
  }
 },
 "nbformat": 4,
 "nbformat_minor": 2
}
