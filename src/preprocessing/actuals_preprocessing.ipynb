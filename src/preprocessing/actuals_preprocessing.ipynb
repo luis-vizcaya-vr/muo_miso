{
 "cells": [
  {
   "cell_type": "markdown",
   "metadata": {},
   "source": [
    "Preprocessing Actuals for MISO from Congestion IQ"
   ]
  },
  {
   "cell_type": "code",
   "execution_count": 2,
   "metadata": {},
   "outputs": [],
   "source": [
    "import pandas as pd"
   ]
  },
  {
   "cell_type": "markdown",
   "metadata": {},
   "source": [
    "Opening the file and pivoting"
   ]
  },
  {
   "cell_type": "code",
   "execution_count": 10,
   "metadata": {},
   "outputs": [],
   "source": [
    "actuals_raw = pd.read_csv('C:/Users/i34005/muo_v2/MUO-MISO/data/actuals/actuals_20220612_20230612.csv')\n",
    "actuals_raw['dispatch_date'] = pd.to_datetime(actuals_raw['dispatch_date'])\n",
    "actuals_raw.set_index('dispatch_date', inplace=True)\n",
    "dataset_list = []\n",
    "\n",
    "for i in range(0,24):\n",
    "    hour_dataset = actuals_raw[['settlement_point',str(i)]].copy()\n",
    "    hour_dataset.rename(columns={str(i):'actual'}, inplace=True)\n",
    "    hour_dataset.index = hour_dataset.index + pd.DateOffset(hours=i)\n",
    "    dataset_list.append(hour_dataset)\n",
    "\n",
    "actual_concat = pd.concat(dataset_list)\n",
    "actual_concat.sort_index(inplace=True)\n",
    "actual_concat.to_csv('actuals.csv')\n"
   ]
  },
  {
   "cell_type": "code",
   "execution_count": 15,
   "metadata": {},
   "outputs": [],
   "source": [
    "actual_concat.to_csv(r'../../data/actuals/actuals.csv')"
   ]
  }
 ],
 "metadata": {
  "kernelspec": {
   "display_name": "muo2",
   "language": "python",
   "name": "python3"
  },
  "language_info": {
   "codemirror_mode": {
    "name": "ipython",
    "version": 3
   },
   "file_extension": ".py",
   "mimetype": "text/x-python",
   "name": "python",
   "nbconvert_exporter": "python",
   "pygments_lexer": "ipython3",
   "version": "3.9.13"
  }
 },
 "nbformat": 4,
 "nbformat_minor": 2
}
